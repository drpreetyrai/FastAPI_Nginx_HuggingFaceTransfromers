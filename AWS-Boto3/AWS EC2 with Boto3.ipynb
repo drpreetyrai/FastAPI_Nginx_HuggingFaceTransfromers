{
 "cells": [
  {
   "cell_type": "markdown",
   "id": "0289585d",
   "metadata": {},
   "source": [
    "Amazon Elastic Compute Cloud (Amazon EC2) is a web service that provides resizeable computing capacity in servers in Amazon's data centers—that you use to build and host your software systems."
   ]
  },
  {
   "cell_type": "markdown",
   "id": "daec88e5",
   "metadata": {},
   "source": [
    "https://boto3.amazonaws.com/v1/documentation/api/latest/guide/quickstart.html"
   ]
  },
  {
   "cell_type": "markdown",
   "id": "2922391e",
   "metadata": {},
   "source": [
    "- Create Key-Pair for Secure Connection\n",
    "- Create an Amazon EC2 instance\n",
    "    - test with ip address in browser\n",
    "    - test with ssh connection\n",
    "- Create Security Group and add rules to it\n",
    "- Attaching and Detaching Security Groups to Amazon EC2 instances\n",
    "    - test with ip address in browser\n",
    "    - test with ssh connection\n",
    "- Start, Stop and Delete Amazon EC2 instances"
   ]
  },
  {
   "cell_type": "markdown",
   "id": "872aebd6",
   "metadata": {},
   "source": [
    "# Create Key Pair For Secure Connections"
   ]
  },
  {
   "cell_type": "code",
   "execution_count": 1,
   "id": "6b638b32",
   "metadata": {},
   "outputs": [],
   "source": [
    "import boto3 "
   ]
  },
  {
   "cell_type": "code",
   "execution_count": 5,
   "id": "6ca94dc4",
   "metadata": {},
   "outputs": [],
   "source": [
    "ec2 = boto3.client('ec2', region_name='us-east-1') \n",
    "\n",
    "ec2.describe_instances() \n",
    "\n",
    "resp = ec2.create_key_pair(KeyName='mykeypair')\n",
    "\n"
   ]
  },
  {
   "cell_type": "code",
   "execution_count": 6,
   "id": "217a017b",
   "metadata": {},
   "outputs": [],
   "source": [
    "file = open(\"creds/mlops.pem\", 'w')\n",
    "file.write(resp['KeyMaterial'])\n",
    "file.close() \n"
   ]
  },
  {
   "cell_type": "markdown",
   "id": "25af7baa",
   "metadata": {},
   "source": [
    "# Create an Amazon EC2 instance"
   ]
  },
  {
   "cell_type": "code",
   "execution_count": 7,
   "id": "95399aa2",
   "metadata": {},
   "outputs": [
    {
     "data": {
      "text/plain": [
       "{'Reservations': [],\n",
       " 'ResponseMetadata': {'RequestId': '2cd86451-be62-4ec9-a599-fcf225aa3a88',\n",
       "  'HTTPStatusCode': 200,\n",
       "  'HTTPHeaders': {'x-amzn-requestid': '2cd86451-be62-4ec9-a599-fcf225aa3a88',\n",
       "   'cache-control': 'no-cache, no-store',\n",
       "   'strict-transport-security': 'max-age=31536000; includeSubDomains',\n",
       "   'content-type': 'text/xml;charset=UTF-8',\n",
       "   'content-length': '219',\n",
       "   'date': 'Thu, 17 Apr 2025 17:22:13 GMT',\n",
       "   'server': 'AmazonEC2'},\n",
       "  'RetryAttempts': 0}}"
      ]
     },
     "execution_count": 7,
     "metadata": {},
     "output_type": "execute_result"
    }
   ],
   "source": [
    "ec2.describe_instances()\n"
   ]
  },
  {
   "cell_type": "code",
   "execution_count": null,
   "id": "f6119316",
   "metadata": {},
   "outputs": [],
   "source": [
    "\n",
    "# to create and ec2 instance \n",
    "response = ec2.run_instances(\n",
    "    ImageId = 'ami-0427090fd1714168b',\n",
    "    MinCount=1,\n",
    "    MaxCount=1,\n",
    "    InstanceType='t2.micro',\n",
    "    KeyName='mykeypair',\n",
    "    BlockDeviceMappings=[\n",
    "        {\n",
    "            \"DeviceName\": \"/dev/xvda\",\n",
    "            'Ebs':{\n",
    "                'DeleteOnTermination': True,\n",
    "                'VolumeSize': 20\n",
    "            }\n",
    "        }\n",
    "    ]\n",
    "\n",
    ")\n"
   ]
  },
  {
   "cell_type": "code",
   "execution_count": 9,
   "id": "93fba6d2",
   "metadata": {},
   "outputs": [
    {
     "data": {
      "text/plain": [
       "{'Reservations': [{'ReservationId': 'r-09f71d40f0641f2fa',\n",
       "   'OwnerId': '586794447213',\n",
       "   'Groups': [],\n",
       "   'Instances': [{'Architecture': 'x86_64',\n",
       "     'BlockDeviceMappings': [{'DeviceName': '/dev/xvda',\n",
       "       'Ebs': {'AttachTime': datetime.datetime(2025, 4, 17, 17, 22, 20, tzinfo=tzutc()),\n",
       "        'DeleteOnTermination': True,\n",
       "        'Status': 'attaching',\n",
       "        'VolumeId': 'vol-0649bb02434400a88'}}],\n",
       "     'ClientToken': 'f07906d8-3dfe-4eaf-a1d5-3b7f5cc018bd',\n",
       "     'EbsOptimized': False,\n",
       "     'EnaSupport': True,\n",
       "     'Hypervisor': 'xen',\n",
       "     'NetworkInterfaces': [{'Association': {'IpOwnerId': 'amazon',\n",
       "        'PublicDnsName': 'ec2-3-83-140-224.compute-1.amazonaws.com',\n",
       "        'PublicIp': '3.83.140.224'},\n",
       "       'Attachment': {'AttachTime': datetime.datetime(2025, 4, 17, 17, 22, 19, tzinfo=tzutc()),\n",
       "        'AttachmentId': 'eni-attach-0c1f67e14515040b8',\n",
       "        'DeleteOnTermination': True,\n",
       "        'DeviceIndex': 0,\n",
       "        'Status': 'attaching',\n",
       "        'NetworkCardIndex': 0},\n",
       "       'Description': '',\n",
       "       'Groups': [{'GroupId': 'sg-07cd6600a21545803', 'GroupName': 'default'}],\n",
       "       'Ipv6Addresses': [],\n",
       "       'MacAddress': '12:37:e3:27:e5:53',\n",
       "       'NetworkInterfaceId': 'eni-0c5ea3bb89180962b',\n",
       "       'OwnerId': '586794447213',\n",
       "       'PrivateDnsName': 'ip-172-31-92-9.ec2.internal',\n",
       "       'PrivateIpAddress': '172.31.92.9',\n",
       "       'PrivateIpAddresses': [{'Association': {'IpOwnerId': 'amazon',\n",
       "          'PublicDnsName': 'ec2-3-83-140-224.compute-1.amazonaws.com',\n",
       "          'PublicIp': '3.83.140.224'},\n",
       "         'Primary': True,\n",
       "         'PrivateDnsName': 'ip-172-31-92-9.ec2.internal',\n",
       "         'PrivateIpAddress': '172.31.92.9'}],\n",
       "       'SourceDestCheck': True,\n",
       "       'Status': 'in-use',\n",
       "       'SubnetId': 'subnet-06d28f702a62c65aa',\n",
       "       'VpcId': 'vpc-056e18a05bd38138d',\n",
       "       'InterfaceType': 'interface',\n",
       "       'Operator': {'Managed': False}}],\n",
       "     'RootDeviceName': '/dev/xvda',\n",
       "     'RootDeviceType': 'ebs',\n",
       "     'SecurityGroups': [{'GroupId': 'sg-07cd6600a21545803',\n",
       "       'GroupName': 'default'}],\n",
       "     'SourceDestCheck': True,\n",
       "     'VirtualizationType': 'hvm',\n",
       "     'CpuOptions': {'CoreCount': 1, 'ThreadsPerCore': 1},\n",
       "     'CapacityReservationSpecification': {'CapacityReservationPreference': 'open'},\n",
       "     'HibernationOptions': {'Configured': False},\n",
       "     'MetadataOptions': {'State': 'pending',\n",
       "      'HttpTokens': 'required',\n",
       "      'HttpPutResponseHopLimit': 2,\n",
       "      'HttpEndpoint': 'enabled',\n",
       "      'HttpProtocolIpv6': 'disabled',\n",
       "      'InstanceMetadataTags': 'disabled'},\n",
       "     'EnclaveOptions': {'Enabled': False},\n",
       "     'BootMode': 'uefi-preferred',\n",
       "     'PlatformDetails': 'Linux/UNIX',\n",
       "     'UsageOperation': 'RunInstances',\n",
       "     'UsageOperationUpdateTime': datetime.datetime(2025, 4, 17, 17, 22, 19, tzinfo=tzutc()),\n",
       "     'PrivateDnsNameOptions': {'HostnameType': 'ip-name',\n",
       "      'EnableResourceNameDnsARecord': False,\n",
       "      'EnableResourceNameDnsAAAARecord': False},\n",
       "     'MaintenanceOptions': {'AutoRecovery': 'default'},\n",
       "     'CurrentInstanceBootMode': 'legacy-bios',\n",
       "     'NetworkPerformanceOptions': {'BandwidthWeighting': 'default'},\n",
       "     'Operator': {'Managed': False},\n",
       "     'InstanceId': 'i-04183507ced90a5e6',\n",
       "     'ImageId': 'ami-0427090fd1714168b',\n",
       "     'State': {'Code': 0, 'Name': 'pending'},\n",
       "     'PrivateDnsName': 'ip-172-31-92-9.ec2.internal',\n",
       "     'PublicDnsName': 'ec2-3-83-140-224.compute-1.amazonaws.com',\n",
       "     'StateTransitionReason': '',\n",
       "     'KeyName': 'mykeypair',\n",
       "     'AmiLaunchIndex': 0,\n",
       "     'ProductCodes': [],\n",
       "     'InstanceType': 't2.micro',\n",
       "     'LaunchTime': datetime.datetime(2025, 4, 17, 17, 22, 19, tzinfo=tzutc()),\n",
       "     'Placement': {'GroupName': '',\n",
       "      'Tenancy': 'default',\n",
       "      'AvailabilityZone': 'us-east-1c'},\n",
       "     'Monitoring': {'State': 'disabled'},\n",
       "     'SubnetId': 'subnet-06d28f702a62c65aa',\n",
       "     'VpcId': 'vpc-056e18a05bd38138d',\n",
       "     'PrivateIpAddress': '172.31.92.9',\n",
       "     'PublicIpAddress': '3.83.140.224'}]}],\n",
       " 'ResponseMetadata': {'RequestId': 'e8e1de36-dae4-4fa6-b305-20ca327eca9f',\n",
       "  'HTTPStatusCode': 200,\n",
       "  'HTTPHeaders': {'x-amzn-requestid': 'e8e1de36-dae4-4fa6-b305-20ca327eca9f',\n",
       "   'cache-control': 'no-cache, no-store',\n",
       "   'strict-transport-security': 'max-age=31536000; includeSubDomains',\n",
       "   'vary': 'accept-encoding',\n",
       "   'content-type': 'text/xml;charset=UTF-8',\n",
       "   'content-length': '4721',\n",
       "   'date': 'Thu, 17 Apr 2025 17:22:23 GMT',\n",
       "   'server': 'AmazonEC2'},\n",
       "  'RetryAttempts': 0}}"
      ]
     },
     "execution_count": 9,
     "metadata": {},
     "output_type": "execute_result"
    }
   ],
   "source": [
    "ec2.describe_instances()\n"
   ]
  },
  {
   "cell_type": "code",
   "execution_count": null,
   "id": "92eeade2",
   "metadata": {},
   "outputs": [],
   "source": []
  },
  {
   "cell_type": "code",
   "execution_count": null,
   "id": "4bee0f5e",
   "metadata": {},
   "outputs": [],
   "source": []
  },
  {
   "cell_type": "code",
   "execution_count": null,
   "id": "ed13d261",
   "metadata": {},
   "outputs": [],
   "source": []
  },
  {
   "cell_type": "code",
   "execution_count": null,
   "id": "52aefe2e",
   "metadata": {},
   "outputs": [],
   "source": []
  },
  {
   "cell_type": "code",
   "execution_count": null,
   "id": "5898f436",
   "metadata": {},
   "outputs": [],
   "source": []
  },
  {
   "cell_type": "code",
   "execution_count": null,
   "id": "60944721",
   "metadata": {},
   "outputs": [],
   "source": []
  },
  {
   "cell_type": "code",
   "execution_count": null,
   "id": "28ed8543",
   "metadata": {},
   "outputs": [],
   "source": []
  },
  {
   "cell_type": "code",
   "execution_count": null,
   "id": "38fd2120",
   "metadata": {},
   "outputs": [],
   "source": []
  },
  {
   "cell_type": "code",
   "execution_count": null,
   "id": "3d82f359",
   "metadata": {},
   "outputs": [],
   "source": []
  },
  {
   "cell_type": "code",
   "execution_count": null,
   "id": "3daaa2f6",
   "metadata": {},
   "outputs": [],
   "source": []
  },
  {
   "cell_type": "code",
   "execution_count": null,
   "id": "7643f6bc",
   "metadata": {},
   "outputs": [],
   "source": []
  },
  {
   "cell_type": "code",
   "execution_count": null,
   "id": "ed681c0d",
   "metadata": {},
   "outputs": [],
   "source": []
  },
  {
   "cell_type": "code",
   "execution_count": null,
   "id": "85d7baca",
   "metadata": {},
   "outputs": [],
   "source": []
  },
  {
   "cell_type": "code",
   "execution_count": null,
   "id": "60df765c",
   "metadata": {},
   "outputs": [],
   "source": []
  },
  {
   "cell_type": "code",
   "execution_count": null,
   "id": "9b198ac9",
   "metadata": {},
   "outputs": [],
   "source": []
  },
  {
   "cell_type": "code",
   "execution_count": null,
   "id": "f3c60f0d",
   "metadata": {},
   "outputs": [],
   "source": []
  },
  {
   "cell_type": "code",
   "execution_count": null,
   "id": "7361f2f4",
   "metadata": {},
   "outputs": [],
   "source": []
  }
 ],
 "metadata": {
  "kernelspec": {
   "display_name": "base",
   "language": "python",
   "name": "python3"
  },
  "language_info": {
   "codemirror_mode": {
    "name": "ipython",
    "version": 3
   },
   "file_extension": ".py",
   "mimetype": "text/x-python",
   "name": "python",
   "nbconvert_exporter": "python",
   "pygments_lexer": "ipython3",
   "version": "3.12.7"
  }
 },
 "nbformat": 4,
 "nbformat_minor": 5
}
