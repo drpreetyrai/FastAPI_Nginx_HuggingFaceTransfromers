{
 "cells": [
  {
   "cell_type": "code",
   "execution_count": 2,
   "id": "21d6d725",
   "metadata": {},
   "outputs": [],
   "source": [
    "import boto3 "
   ]
  },
  {
   "cell_type": "markdown",
   "id": "bf08dd5f",
   "metadata": {},
   "source": [
    "# Create a Key Pair for Secure Connections"
   ]
  },
  {
   "cell_type": "code",
   "execution_count": 6,
   "id": "a53b2c38",
   "metadata": {},
   "outputs": [],
   "source": [
    "ec2 = boto3.client('ec2', region_name='us-east-1') \n",
    "\n",
    "ec2.describe_instances() \n",
    "\n",
    "resp = ec2.create_key_pair(KeyName='kgptalkie')\n"
   ]
  },
  {
   "cell_type": "code",
   "execution_count": null,
   "id": "7a64068f",
   "metadata": {},
   "outputs": [],
   "source": [
    "file = open(\"creds/mlops.pem\", 'w')\n",
    "file.write(resp['KeyMaterial'])\n",
    "file.close() \n"
   ]
  },
  {
   "cell_type": "markdown",
   "id": "afdfdb51",
   "metadata": {},
   "source": [
    "# Check if instance is present"
   ]
  },
  {
   "cell_type": "code",
   "execution_count": 5,
   "id": "37d7d184",
   "metadata": {},
   "outputs": [
    {
     "data": {
      "text/plain": [
       "'i-0b81206e48b41fec0'"
      ]
     },
     "execution_count": 5,
     "metadata": {},
     "output_type": "execute_result"
    }
   ],
   "source": [
    "import boto3\n",
    "\n",
    "ec2 = boto3.client('ec2', region_name='us-east-1') \n",
    "\n",
    "\n",
    "response = ec2.describe_instances()\n",
    "\n",
    "# instance_name = \"mlops-kgptalkie\"\n",
    "\n",
    "instance_name = \"mlops-prod\"\n",
    "\n",
    "instance_id=\"\" \n",
    "\n",
    "for resp in response['Reservations']:\n",
    "    resp = resp['Instances'][0]\n",
    "    tags = resp.get('Tags', [])\n",
    "    \n",
    "    for tag in tags:\n",
    "        if tag.get(\"Key\", \"\")==\"Name\" and tag.get(\"Value\", \"\")==instance_name:\n",
    "            instance_id = resp['InstanceId']\n",
    "\n",
    "if instance_id==\"\":\n",
    "    print(f\"No instance found with name {instance_name}\")\n",
    "    # raise(\"Stop here!!!\")\n",
    "\n",
    "instance_id"
   ]
  },
  {
   "cell_type": "markdown",
   "id": "b061007f",
   "metadata": {},
   "source": [
    "# Create an EC2 instance"
   ]
  },
  {
   "cell_type": "code",
   "execution_count": 6,
   "id": "572d8fb3",
   "metadata": {},
   "outputs": [
    {
     "name": "stdout",
     "output_type": "stream",
     "text": [
      "Instance is already present\n"
     ]
    }
   ],
   "source": [
    "import boto3\n",
    "\n",
    "ec2 = boto3.client('ec2', region_name='us-east-1') \n",
    "\n",
    "if instance_id == \" \":\n",
    "    response = ec2.run_instances(\n",
    "        ImageId = 'ami-0197c13a4f68c9360',\n",
    "        MinCount=1,\n",
    "        MaxCount=1,\n",
    "        InstanceType='t2.large',\n",
    "        KeyName='kgptalkie',\n",
    "        BlockDeviceMappings=[\n",
    "            {\n",
    "                \"DeviceName\": \"/dev/xvda\",\n",
    "                'Ebs':{\n",
    "                    'DeleteOnTermination': True,\n",
    "                    'VolumeSize': 120\n",
    "                }\n",
    "            }\n",
    "        ]\n",
    "\n",
    "    )\n",
    "\n",
    "    instance_id = response['Instances'][0]['InstanceId']\n",
    "\n",
    "    ec2.create_tags(Resources=[instance_id], Tags=[\n",
    "        {\n",
    "            'Key':'Name',\n",
    "            'Value':instance_name\n",
    "        }\n",
    "    ])\n",
    "\n",
    "else:\n",
    "    print(\"Instance is already present\")\n",
    "    "
   ]
  },
  {
   "cell_type": "markdown",
   "id": "56ee701a",
   "metadata": {},
   "source": [
    "# Create a Secure Group and Rules to it"
   ]
  },
  {
   "cell_type": "code",
   "execution_count": 8,
   "id": "08266df4",
   "metadata": {},
   "outputs": [
    {
     "data": {
      "text/plain": [
       "'sg-082a2af62702b622a'"
      ]
     },
     "execution_count": 8,
     "metadata": {},
     "output_type": "execute_result"
    }
   ],
   "source": [
    "group_name = 'kgptalkie'\n",
    "\n",
    "response = ec2.describe_security_groups()\n",
    "\n",
    "security_group_id = [x['GroupId'] for x in response['SecurityGroups'] if x['GroupName']==group_name]\n",
    "\n",
    "if security_group_id == []:\n",
    "    response = ec2.create_security_group(\n",
    "        GroupName = group_name,\n",
    "        Description = \"Security group for testing\"\n",
    "    )\n",
    "    security_group_id = response['GroupId']\n",
    "else:\n",
    "    security_group_id = security_group_id[0]\n",
    "\n",
    "security_group_id\n"
   ]
  },
  {
   "cell_type": "code",
   "execution_count": 9,
   "id": "09e137fb",
   "metadata": {},
   "outputs": [
    {
     "name": "stdout",
     "output_type": "stream",
     "text": [
      "This rule is already there\n",
      "This rule is already there\n",
      "This rule is already there\n",
      "This rule is already there\n"
     ]
    }
   ],
   "source": [
    "from botocore.exceptions import ClientError\n",
    "\n",
    "def update_security_group(group_id, protocol, port, cidr):\n",
    "    try:\n",
    "        response = ec2.authorize_security_group_ingress(\n",
    "            GroupId = group_id,\n",
    "            IpPermissions=[\n",
    "                {\n",
    "                    'IpProtocol': protocol,\n",
    "                    'FromPort': port,\n",
    "                    'ToPort': port,\n",
    "                    'IpRanges': [{'CidrIp': cidr}]\n",
    "                }\n",
    "            ]\n",
    "        )\n",
    "    except ClientError as e:\n",
    "        if e.response['Error']['Code']=='InvalidPermission.Duplicate':\n",
    "            print('This rule is already there')\n",
    "        else:\n",
    "            print(\"an error as occured!\")\n",
    "            print(e)\n",
    "\n",
    "update_security_group(security_group_id, 'tcp', 22, '0.0.0.0/0')\n",
    "update_security_group(security_group_id, 'tcp', 80, '0.0.0.0/0')\n",
    "update_security_group(security_group_id, 'tcp', 8501, '0.0.0.0/0')\n",
    "update_security_group(security_group_id, 'tcp', 8502, '0.0.0.0/0')\n"
   ]
  },
  {
   "cell_type": "code",
   "execution_count": 10,
   "id": "e46cbcfc",
   "metadata": {},
   "outputs": [
    {
     "data": {
      "text/plain": [
       "{'ResponseMetadata': {'RequestId': '2e2cfc55-9068-4d0d-a828-c68da9652bde',\n",
       "  'HTTPStatusCode': 200,\n",
       "  'HTTPHeaders': {'x-amzn-requestid': '2e2cfc55-9068-4d0d-a828-c68da9652bde',\n",
       "   'cache-control': 'no-cache, no-store',\n",
       "   'strict-transport-security': 'max-age=31536000; includeSubDomains',\n",
       "   'content-type': 'text/xml;charset=UTF-8',\n",
       "   'content-length': '235',\n",
       "   'date': 'Sat, 19 Apr 2025 22:30:47 GMT',\n",
       "   'server': 'AmazonEC2'},\n",
       "  'RetryAttempts': 0}}"
      ]
     },
     "execution_count": 10,
     "metadata": {},
     "output_type": "execute_result"
    }
   ],
   "source": [
    "ec2.modify_instance_attribute(InstanceId=instance_id, Groups=[security_group_id])\n"
   ]
  },
  {
   "cell_type": "markdown",
   "id": "bbe03e26",
   "metadata": {},
   "source": [
    "# Attach S3 Policy to EC2 instance"
   ]
  },
  {
   "cell_type": "code",
   "execution_count": 11,
   "id": "db49e043",
   "metadata": {},
   "outputs": [
    {
     "name": "stdout",
     "output_type": "stream",
     "text": [
      "AmazonSageMaker-ExecutionRole-20250414T194267\n",
      "AmazonSageMakerBedrockModelConsumptionRole-03cbf98ad72958\n",
      "AmazonSageMakerBedrockModelConsumptionRole-05b247e0485669\n",
      "AmazonSageMakerBedrockModelConsumptionRole-15eed14c11e101\n",
      "AmazonSageMakerBedrockModelConsumptionRole-181795e1c15d61\n",
      "AmazonSageMakerBedrockModelConsumptionRole-2d1c11d7571020\n",
      "AmazonSageMakerBedrockModelConsumptionRole-3d06be639af4e9\n",
      "AmazonSageMakerBedrockModelConsumptionRole-4603f73e3211a1\n",
      "AmazonSageMakerBedrockModelConsumptionRole-46ca82e8fe0f7c\n",
      "AmazonSageMakerBedrockModelConsumptionRole-5bd685c3ba6cbf\n",
      "AmazonSageMakerBedrockModelConsumptionRole-7507deb98df51a\n",
      "AmazonSageMakerBedrockModelConsumptionRole-779865b97aeb74\n",
      "AmazonSageMakerBedrockModelConsumptionRole-82aefb84fe1a2e\n",
      "AmazonSageMakerBedrockModelConsumptionRole-82cd6a0c9f4a30\n",
      "AmazonSageMakerBedrockModelConsumptionRole-86ecbf891b3fea\n",
      "AmazonSageMakerBedrockModelConsumptionRole-8d514f221977ac\n",
      "AmazonSageMakerBedrockModelConsumptionRole-957e834a1fdc48\n",
      "AmazonSageMakerBedrockModelConsumptionRole-993800891ae0a6\n",
      "AmazonSageMakerBedrockModelConsumptionRole-9f11c7af34fec4\n",
      "AmazonSageMakerBedrockModelConsumptionRole-a0eab4034cbab3\n",
      "AmazonSageMakerBedrockModelConsumptionRole-a53da4a72ac80b\n",
      "AmazonSageMakerBedrockModelConsumptionRole-bf91c9455b6120\n",
      "AmazonSageMakerBedrockModelConsumptionRole-d5add6e37f94c6\n",
      "AmazonSageMakerBedrockModelConsumptionRole-de15ed5c5e47b4\n",
      "AmazonSageMakerBedrockModelConsumptionRole-ed4db3a1a0b7ea\n",
      "AmazonSageMakerBedrockModelConsumptionRole-f9117c3930f087\n",
      "AmazonSageMakerBedrockModelConsumptionRole-fc2631faea56c0\n",
      "AmazonSageMakerBedrockModelManagementRole-586794447213\n",
      "AmazonSageMakerBedrockModelVideoConsumptionRole-90c4962ba5b783\n",
      "AmazonSageMakerBedrockModelVideoConsumptionRole-ae3161cb93ee23\n",
      "AmazonSageMakerBedrockModelVideoConsumptionRole-c0137f551710b5\n",
      "AmazonSageMakerBedrockModelVideoConsumptionRole-f7eb17d9e01e72\n",
      "AmazonSageMakerDomainExecution\n",
      "AmazonSageMakerDomainService\n",
      "AmazonSageMakerManageAccess-us-east-1-dzd_6dvllpcqt753zb\n",
      "AmazonSageMakerProvisioning-586794447213\n",
      "awsappbedrock-role-3hberiqb\n",
      "AWSServiceRoleForRDS\n",
      "AWSServiceRoleForSupport\n",
      "AWSServiceRoleForTrustedAdvisor\n",
      "ec2-s3-full-access\n",
      "rds-monitoring-role\n",
      "S3AccessRole\n"
     ]
    }
   ],
   "source": [
    "import boto3\n",
    "\n",
    "iam = boto3.client('iam')\n",
    "\n",
    "response = iam.list_roles()\n",
    "\n",
    "for role in response['Roles']:\n",
    "    print(role['RoleName'])"
   ]
  },
  {
   "cell_type": "code",
   "execution_count": null,
   "id": "bb04cb71",
   "metadata": {},
   "outputs": [],
   "source": []
  },
  {
   "cell_type": "code",
   "execution_count": 12,
   "id": "542ae55b",
   "metadata": {},
   "outputs": [
    {
     "data": {
      "text/plain": [
       "{'IamInstanceProfileAssociation': {'AssociationId': 'iip-assoc-01abf0f8e7771eacd',\n",
       "  'InstanceId': 'i-0b81206e48b41fec0',\n",
       "  'IamInstanceProfile': {'Arn': 'arn:aws:iam::586794447213:instance-profile/ec2-s3-full-access',\n",
       "   'Id': 'AIPAYRH5MWFWUO4K3RBF6'},\n",
       "  'State': 'associating'},\n",
       " 'ResponseMetadata': {'RequestId': '32cdd12d-fdc9-416b-bc40-e7172af687f4',\n",
       "  'HTTPStatusCode': 200,\n",
       "  'HTTPHeaders': {'x-amzn-requestid': '32cdd12d-fdc9-416b-bc40-e7172af687f4',\n",
       "   'cache-control': 'no-cache, no-store',\n",
       "   'strict-transport-security': 'max-age=31536000; includeSubDomains',\n",
       "   'vary': 'accept-encoding',\n",
       "   'content-type': 'text/xml;charset=UTF-8',\n",
       "   'transfer-encoding': 'chunked',\n",
       "   'date': 'Sat, 19 Apr 2025 22:30:58 GMT',\n",
       "   'server': 'AmazonEC2'},\n",
       "  'RetryAttempts': 0}}"
      ]
     },
     "execution_count": 12,
     "metadata": {},
     "output_type": "execute_result"
    }
   ],
   "source": [
    "# describe IAM role\n",
    "iam = boto3.client('iam')\n",
    "\n",
    "role_name = \"ec2-s3-full-access\"\n",
    "\n",
    "response = iam.get_role(RoleName=role_name)\n",
    "\n",
    "role_arn = response['Role']['Arn']\n",
    "\n",
    "role_arn\n",
    "\n",
    "# Ensure there is an instance profile with the same name as the role\n",
    "instance_profile_name = role_name\n",
    "try:\n",
    "    iam.get_instance_profile(InstanceProfileName=instance_profile_name)\n",
    "except iam.exceptions.NoSuchEntityException:\n",
    "    # Create an instance profile if it doesn't exist\n",
    "    iam.create_instance_profile(InstanceProfileName=instance_profile_name)\n",
    "    # Add role to the instance profile\n",
    "    iam.add_role_to_instance_profile(\n",
    "        InstanceProfileName=instance_profile_name,\n",
    "        RoleName=role_name\n",
    "    )\n",
    "\n",
    "# Attach the instance profile to the EC2 instance\n",
    "ec2.associate_iam_instance_profile(\n",
    "    IamInstanceProfile={\n",
    "        'Name': instance_profile_name\n",
    "    },\n",
    "    InstanceId=instance_id\n",
    ")\n"
   ]
  },
  {
   "cell_type": "code",
   "execution_count": null,
   "id": "adfc4ae8",
   "metadata": {},
   "outputs": [],
   "source": []
  },
  {
   "cell_type": "markdown",
   "id": "b6db776c",
   "metadata": {},
   "source": [
    "# Terminate EC2 instance"
   ]
  },
  {
   "cell_type": "code",
   "execution_count": null,
   "id": "b393529e",
   "metadata": {},
   "outputs": [],
   "source": [
    "import time\n",
    "\n",
    "def wait_for_status(instance_id, target_status):\n",
    "    while True:\n",
    "        response = ec2.describe_instances(InstanceIds=instance_id)\n",
    "\n",
    "        status = response['Reservations'][0]['Instances'][0]['State']['Name']\n",
    "\n",
    "        if status == target_status:\n",
    "            print(\"Instance is in {} state\".format(target_status))\n",
    "            break\n",
    "        \n",
    "        time.sleep(10)\n",
    "\n",
    "def terminate_instances(instance_id):\n",
    "    print(\"EC2 Instance Termination\")\n",
    "    ec2.terminate_instances(InstanceIds=instance_id)\n",
    "\n",
    "    wait_for_status(instance_id, 'terminated')\n",
    "\n",
    "# terminate_instances([instance_id])"
   ]
  },
  {
   "cell_type": "code",
   "execution_count": null,
   "id": "1e4a0ef1",
   "metadata": {},
   "outputs": [],
   "source": []
  },
  {
   "cell_type": "code",
   "execution_count": null,
   "id": "41cb49e6",
   "metadata": {},
   "outputs": [],
   "source": []
  },
  {
   "cell_type": "code",
   "execution_count": null,
   "id": "e6eb12bc",
   "metadata": {},
   "outputs": [],
   "source": []
  },
  {
   "cell_type": "code",
   "execution_count": null,
   "id": "a458e4b2",
   "metadata": {},
   "outputs": [],
   "source": []
  },
  {
   "cell_type": "code",
   "execution_count": null,
   "id": "378daea2",
   "metadata": {},
   "outputs": [],
   "source": []
  },
  {
   "cell_type": "code",
   "execution_count": null,
   "id": "854088a9",
   "metadata": {},
   "outputs": [],
   "source": []
  },
  {
   "cell_type": "code",
   "execution_count": null,
   "id": "257c1a0c",
   "metadata": {},
   "outputs": [],
   "source": []
  }
 ],
 "metadata": {
  "kernelspec": {
   "display_name": "Python 3",
   "language": "python",
   "name": "python3"
  },
  "language_info": {
   "codemirror_mode": {
    "name": "ipython",
    "version": 3
   },
   "file_extension": ".py",
   "mimetype": "text/x-python",
   "name": "python",
   "nbconvert_exporter": "python",
   "pygments_lexer": "ipython3",
   "version": "3.11.11"
  }
 },
 "nbformat": 4,
 "nbformat_minor": 5
}
